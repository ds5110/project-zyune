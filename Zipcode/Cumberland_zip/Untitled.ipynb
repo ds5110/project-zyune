{
 "cells": [
  {
   "cell_type": "code",
   "execution_count": 9,
   "id": "76a4128c",
   "metadata": {},
   "outputs": [
    {
     "name": "stdout",
     "output_type": "stream",
     "text": [
      "761\n"
     ]
    }
   ],
   "source": [
    "import geopandas as gpd\n",
    "westbrook=gpd.read_file('04102.geojson')\n",
    "print(len(westbrook))"
   ]
  }
 ],
 "metadata": {
  "kernelspec": {
   "display_name": "Python 3 (ipykernel)",
   "language": "python",
   "name": "python3"
  },
  "language_info": {
   "codemirror_mode": {
    "name": "ipython",
    "version": 3
   },
   "file_extension": ".py",
   "mimetype": "text/x-python",
   "name": "python",
   "nbconvert_exporter": "python",
   "pygments_lexer": "ipython3",
   "version": "3.9.12"
  }
 },
 "nbformat": 4,
 "nbformat_minor": 5
}
